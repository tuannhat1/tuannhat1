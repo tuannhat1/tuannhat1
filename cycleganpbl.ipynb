{
 "cells": [
  {
   "cell_type": "markdown",
   "id": "52252f97",
   "metadata": {
    "papermill": {
     "duration": 0.005253,
     "end_time": "2024-05-08T16:57:12.442441",
     "exception": false,
     "start_time": "2024-05-08T16:57:12.437188",
     "status": "completed"
    },
    "tags": []
   },
   "source": [
    "config\n"
   ]
  },
  {
   "cell_type": "code",
   "execution_count": 1,
   "id": "2fdebc4b",
   "metadata": {
    "execution": {
     "iopub.execute_input": "2024-05-08T16:57:12.453333Z",
     "iopub.status.busy": "2024-05-08T16:57:12.453027Z",
     "iopub.status.idle": "2024-05-08T16:57:12.463729Z",
     "shell.execute_reply": "2024-05-08T16:57:12.462866Z"
    },
    "papermill": {
     "duration": 0.018263,
     "end_time": "2024-05-08T16:57:12.465667",
     "exception": false,
     "start_time": "2024-05-08T16:57:12.447404",
     "status": "completed"
    },
    "tags": []
   },
   "outputs": [],
   "source": [
    "import os\n",
    "\n",
    "# Đường dẫn đến thư mục muốn tạo\n",
    "folder_path = '/kaggle/working/saved_images'\n",
    "\n",
    "# Tạo thư mục nếu nó chưa tồn tại\n",
    "os.makedirs(folder_path, exist_ok=True)\n"
   ]
  },
  {
   "cell_type": "code",
   "execution_count": 2,
   "id": "e12173b6",
   "metadata": {
    "execution": {
     "iopub.execute_input": "2024-05-08T16:57:12.476111Z",
     "iopub.status.busy": "2024-05-08T16:57:12.475869Z",
     "iopub.status.idle": "2024-05-08T16:57:17.747282Z",
     "shell.execute_reply": "2024-05-08T16:57:17.746473Z"
    },
    "papermill": {
     "duration": 5.279187,
     "end_time": "2024-05-08T16:57:17.749551",
     "exception": false,
     "start_time": "2024-05-08T16:57:12.470364",
     "status": "completed"
    },
    "tags": []
   },
   "outputs": [],
   "source": [
    "import torch\n",
    "import albumentations as A\n",
    "from albumentations.pytorch import ToTensorV2\n",
    "\n",
    "DEVICE = \"cuda\" if torch.cuda.is_available() else \"cpu\"\n",
    "TRAIN_DIR = \"/kaggle/input/horse2zebra-dataset\"\n",
    "VAL_DIR = \"/kaggle/input/horse2zebra-dataset\"\n",
    "BATCH_SIZE = 1\n",
    "LEARNING_RATE = 1e-5\n",
    "LAMBDA_IDENTITY = 0.0\n",
    "LAMBDA_CYCLE = 10\n",
    "NUM_WORKERS = 8\n",
    "NUM_EPOCHS = 25\n",
    "LOAD_MODEL = False\n",
    "SAVE_MODEL = True\n",
    "CHECKPOINT_GEN_H = \"genh.pth.tar\"\n",
    "CHECKPOINT_GEN_Z = \"genz.pth.tar\"\n",
    "CHECKPOINT_CRITIC_H = \"critich.pth.tar\"\n",
    "CHECKPOINT_CRITIC_Z = \"criticz.pth.tar\"\n",
    "\n",
    "transforms = A.Compose(\n",
    "    [\n",
    "        A.Resize(width=256, height=256),\n",
    "        A.HorizontalFlip(p=0.5),\n",
    "        A.Normalize(mean=[0.5, 0.5, 0.5], std=[0.5, 0.5, 0.5], max_pixel_value=255),\n",
    "        ToTensorV2(),\n",
    "    ],\n",
    "    additional_targets={\"image0\": \"image\"},\n",
    ")\n"
   ]
  },
  {
   "cell_type": "markdown",
   "id": "418adc24",
   "metadata": {
    "papermill": {
     "duration": 0.004588,
     "end_time": "2024-05-08T16:57:17.759456",
     "exception": false,
     "start_time": "2024-05-08T16:57:17.754868",
     "status": "completed"
    },
    "tags": []
   },
   "source": [
    "dataset"
   ]
  },
  {
   "cell_type": "code",
   "execution_count": 3,
   "id": "cf1a8d82",
   "metadata": {
    "execution": {
     "iopub.execute_input": "2024-05-08T16:57:17.770281Z",
     "iopub.status.busy": "2024-05-08T16:57:17.769892Z",
     "iopub.status.idle": "2024-05-08T16:57:17.779444Z",
     "shell.execute_reply": "2024-05-08T16:57:17.778626Z"
    },
    "papermill": {
     "duration": 0.017113,
     "end_time": "2024-05-08T16:57:17.781294",
     "exception": false,
     "start_time": "2024-05-08T16:57:17.764181",
     "status": "completed"
    },
    "tags": []
   },
   "outputs": [],
   "source": [
    "from PIL import Image\n",
    "import os\n",
    "from torch.utils.data import Dataset\n",
    "import numpy as np\n",
    "\n",
    "class HorseZebraDataset(Dataset):\n",
    "    def __init__(self, root_zebra, root_horse, transform=None):\n",
    "        self.root_zebra = root_zebra\n",
    "        self.root_horse = root_horse\n",
    "        self.transform = transform\n",
    "\n",
    "        self.zebra_images = os.listdir(root_zebra)\n",
    "        self.horse_images = os.listdir(root_horse)\n",
    "        self.length_dataset = max(len(self.zebra_images), len(self.horse_images)) # 1000, 1500\n",
    "        self.zebra_len = len(self.zebra_images)\n",
    "        self.horse_len = len(self.horse_images)\n",
    "\n",
    "    def __len__(self):\n",
    "        return self.length_dataset\n",
    "\n",
    "    def __getitem__(self, index):\n",
    "        zebra_img = self.zebra_images[index % self.zebra_len]\n",
    "        horse_img = self.horse_images[index % self.horse_len]\n",
    "\n",
    "        zebra_path = os.path.join(self.root_zebra, zebra_img)\n",
    "        horse_path = os.path.join(self.root_horse, horse_img)\n",
    "\n",
    "        zebra_img = np.array(Image.open(zebra_path).convert(\"RGB\"))\n",
    "        horse_img = np.array(Image.open(horse_path).convert(\"RGB\"))\n",
    "\n",
    "        if self.transform:\n",
    "            augmentations = self.transform(image=zebra_img, image0=horse_img)\n",
    "            zebra_img = augmentations[\"image\"]\n",
    "            horse_img = augmentations[\"image0\"]\n",
    "\n",
    "        return zebra_img, horse_img\n"
   ]
  },
  {
   "cell_type": "markdown",
   "id": "605f61d5",
   "metadata": {
    "papermill": {
     "duration": 0.004578,
     "end_time": "2024-05-08T16:57:17.790639",
     "exception": false,
     "start_time": "2024-05-08T16:57:17.786061",
     "status": "completed"
    },
    "tags": []
   },
   "source": [
    "generator "
   ]
  },
  {
   "cell_type": "code",
   "execution_count": 4,
   "id": "98f40229",
   "metadata": {
    "execution": {
     "iopub.execute_input": "2024-05-08T16:57:17.801446Z",
     "iopub.status.busy": "2024-05-08T16:57:17.801177Z",
     "iopub.status.idle": "2024-05-08T16:57:17.816337Z",
     "shell.execute_reply": "2024-05-08T16:57:17.815554Z"
    },
    "papermill": {
     "duration": 0.022794,
     "end_time": "2024-05-08T16:57:17.818135",
     "exception": false,
     "start_time": "2024-05-08T16:57:17.795341",
     "status": "completed"
    },
    "tags": []
   },
   "outputs": [],
   "source": [
    "import torch\n",
    "import torch.nn as nn\n",
    "\n",
    "class ConvBlock(nn.Module):\n",
    "    def __init__(self, in_channels, out_channels, down=True, use_act=True, **kwargs):\n",
    "        super().__init__()\n",
    "        self.conv = nn.Sequential(\n",
    "            nn.Conv2d(in_channels, out_channels, padding_mode=\"reflect\", **kwargs)\n",
    "            if down\n",
    "            else nn.ConvTranspose2d(in_channels, out_channels, **kwargs),\n",
    "            nn.InstanceNorm2d(out_channels),\n",
    "            nn.ReLU(inplace=True) if use_act else nn.Identity(),\n",
    "        )\n",
    "\n",
    "    def forward(self, x):\n",
    "        return self.conv(x)\n",
    "\n",
    "class ResidualBlock(nn.Module):\n",
    "    def __init__(self, channels):\n",
    "        super().__init__()\n",
    "        self.block = nn.Sequential(\n",
    "            ConvBlock(channels, channels, kernel_size=3, padding=1),\n",
    "            ConvBlock(channels, channels, use_act=False, kernel_size=3, padding=1),\n",
    "        )\n",
    "\n",
    "    def forward(self, x):\n",
    "        return x + self.block(x)\n",
    "\n",
    "class Generator(nn.Module):\n",
    "    def __init__(self, img_channels, num_features=64, num_residuals=9):\n",
    "        super().__init__()\n",
    "        self.initial = nn.Sequential(\n",
    "            nn.Conv2d(\n",
    "                img_channels,\n",
    "                num_features,\n",
    "                kernel_size=7,\n",
    "                stride=1,\n",
    "                padding=3,\n",
    "                padding_mode=\"reflect\",\n",
    "            ),\n",
    "            nn.InstanceNorm2d(num_features),\n",
    "            nn.ReLU(inplace=True),\n",
    "        )\n",
    "        self.down_blocks = nn.ModuleList(\n",
    "            [\n",
    "                ConvBlock(\n",
    "                    num_features, num_features * 2, kernel_size=3, stride=2, padding=1\n",
    "                ),\n",
    "                ConvBlock(\n",
    "                    num_features * 2,\n",
    "                    num_features * 4,\n",
    "                    kernel_size=3,\n",
    "                    stride=2,\n",
    "                    padding=1,\n",
    "                ),\n",
    "            ]\n",
    "        )\n",
    "        self.res_blocks = nn.Sequential(\n",
    "            *[ResidualBlock(num_features * 4) for _ in range(num_residuals)]\n",
    "        )\n",
    "        self.up_blocks = nn.ModuleList(\n",
    "            [\n",
    "                ConvBlock(\n",
    "                    num_features * 4,\n",
    "                    num_features * 2,\n",
    "                    down=False,\n",
    "                    kernel_size=3,\n",
    "                    stride=2,\n",
    "                    padding=1,\n",
    "                    output_padding=1,\n",
    "                ),\n",
    "                ConvBlock(\n",
    "                    num_features * 2,\n",
    "                    num_features * 1,\n",
    "                    down=False,\n",
    "                    kernel_size=3,\n",
    "                    stride=2,\n",
    "                    padding=1,\n",
    "                    output_padding=1,\n",
    "                ),\n",
    "            ]\n",
    "        )\n",
    "\n",
    "        self.last = nn.Conv2d(\n",
    "            num_features * 1,\n",
    "            img_channels,\n",
    "            kernel_size=7,\n",
    "            stride=1,\n",
    "            padding=3,\n",
    "            padding_mode=\"reflect\",\n",
    "        )\n",
    "\n",
    "    def forward(self, x):\n",
    "        x = self.initial(x)\n",
    "        for layer in self.down_blocks:\n",
    "            x = layer(x)\n",
    "        x = self.res_blocks(x)\n",
    "        for layer in self.up_blocks:\n",
    "            x = layer(x)\n",
    "        return torch.tanh(self.last(x))\n"
   ]
  },
  {
   "cell_type": "markdown",
   "id": "9f9d9d01",
   "metadata": {
    "papermill": {
     "duration": 0.004491,
     "end_time": "2024-05-08T16:57:17.827310",
     "exception": false,
     "start_time": "2024-05-08T16:57:17.822819",
     "status": "completed"
    },
    "tags": []
   },
   "source": [
    "Discriminator"
   ]
  },
  {
   "cell_type": "code",
   "execution_count": 5,
   "id": "cf249515",
   "metadata": {
    "execution": {
     "iopub.execute_input": "2024-05-08T16:57:17.838205Z",
     "iopub.status.busy": "2024-05-08T16:57:17.837560Z",
     "iopub.status.idle": "2024-05-08T16:57:17.847723Z",
     "shell.execute_reply": "2024-05-08T16:57:17.847048Z"
    },
    "papermill": {
     "duration": 0.017541,
     "end_time": "2024-05-08T16:57:17.849652",
     "exception": false,
     "start_time": "2024-05-08T16:57:17.832111",
     "status": "completed"
    },
    "tags": []
   },
   "outputs": [],
   "source": [
    "import torch\n",
    "import torch.nn as nn\n",
    "\n",
    "class Block(nn.Module):\n",
    "    def __init__(self, in_channels, out_channels, stride):\n",
    "        super().__init__()\n",
    "        self.conv = nn.Sequential(\n",
    "            nn.Conv2d(\n",
    "                in_channels,\n",
    "                out_channels,\n",
    "                4,\n",
    "                stride,\n",
    "                1,\n",
    "                bias=True,\n",
    "                padding_mode=\"reflect\",\n",
    "            ),\n",
    "            nn.InstanceNorm2d(out_channels),\n",
    "            nn.LeakyReLU(0.2, inplace=True),\n",
    "        )\n",
    "\n",
    "    def forward(self, x):\n",
    "        return self.conv(x)\n",
    "\n",
    "class Discriminator(nn.Module):\n",
    "    def __init__(self, in_channels=3, features=[64, 128, 256, 512]):\n",
    "        super().__init__()\n",
    "        self.initial = nn.Sequential(\n",
    "            nn.Conv2d(\n",
    "                in_channels,\n",
    "                features[0],\n",
    "                kernel_size=4,\n",
    "                stride=2,\n",
    "                padding=1,\n",
    "                padding_mode=\"reflect\",\n",
    "            ),\n",
    "            nn.LeakyReLU(0.2, inplace=True),\n",
    "        )\n",
    "\n",
    "        layers = []\n",
    "        in_channels = features[0]\n",
    "        for feature in features[1:]:\n",
    "            layers.append(\n",
    "                Block(in_channels, feature, stride=1 if feature == features[-1] else 2)\n",
    "            )\n",
    "            in_channels = feature\n",
    "        layers.append(\n",
    "            nn.Conv2d(\n",
    "                in_channels,\n",
    "                1,\n",
    "                kernel_size=4,\n",
    "                stride=1,\n",
    "                padding=1,\n",
    "                padding_mode=\"reflect\",\n",
    "            )\n",
    "        )\n",
    "        self.model = nn.Sequential(*layers)\n",
    "\n",
    "    def forward(self, x):\n",
    "        x = self.initial(x)\n",
    "        return torch.sigmoid(self.model(x))\n"
   ]
  },
  {
   "cell_type": "markdown",
   "id": "a3b3e91a",
   "metadata": {
    "papermill": {
     "duration": 0.004665,
     "end_time": "2024-05-08T16:57:17.859247",
     "exception": false,
     "start_time": "2024-05-08T16:57:17.854582",
     "status": "completed"
    },
    "tags": []
   },
   "source": [
    "save"
   ]
  },
  {
   "cell_type": "code",
   "execution_count": 6,
   "id": "39172924",
   "metadata": {
    "execution": {
     "iopub.execute_input": "2024-05-08T16:57:17.869651Z",
     "iopub.status.busy": "2024-05-08T16:57:17.869387Z",
     "iopub.status.idle": "2024-05-08T16:57:17.877306Z",
     "shell.execute_reply": "2024-05-08T16:57:17.876529Z"
    },
    "papermill": {
     "duration": 0.015168,
     "end_time": "2024-05-08T16:57:17.879107",
     "exception": false,
     "start_time": "2024-05-08T16:57:17.863939",
     "status": "completed"
    },
    "tags": []
   },
   "outputs": [],
   "source": [
    "import random, torch, os, numpy as np\n",
    "import torch.nn as nn\n",
    "\n",
    "import copy\n",
    "\n",
    "def save_checkpoint(model, optimizer, filename=\"/kaggle/working/my_checkpoint.pth.tar\"):\n",
    "    print(\"=> Saving checkpoint\")\n",
    "    checkpoint = {\n",
    "        \"state_dict\": model.state_dict(),\n",
    "        \"optimizer\": optimizer.state_dict(),\n",
    "    }\n",
    "    torch.save(checkpoint, filename)\n",
    "\n",
    "\n",
    "def load_checkpoint(checkpoint_file, model, optimizer, lr):\n",
    "    print(\"=> Loading checkpoint\")\n",
    "    checkpoint = torch.load(checkpoint_file, map_location=DEVICE)\n",
    "    model.load_state_dict(checkpoint[\"state_dict\"])\n",
    "    optimizer.load_state_dict(checkpoint[\"optimizer\"])\n",
    "\n",
    "    # If we don't do this then it will just have learning rate of old checkpoint\n",
    "    # and it will lead to many hours of debugging \\:\n",
    "    for param_group in optimizer.param_groups:\n",
    "        param_group[\"lr\"] = lr\n",
    "\n",
    "\n",
    "def seed_everything(seed=42):\n",
    "    os.environ[\"PYTHONHASHSEED\"] = str(seed)\n",
    "    random.seed(seed)\n",
    "    np.random.seed(seed)\n",
    "    torch.manual_seed(seed)\n",
    "    torch.cuda.manual_seed(seed)\n",
    "    torch.cuda.manual_seed_all(seed)\n",
    "    torch.backends.cudnn.deterministic = True\n",
    "    torch.backends.cudnn.benchmark = False"
   ]
  },
  {
   "cell_type": "markdown",
   "id": "389fc1e1",
   "metadata": {
    "papermill": {
     "duration": 0.004945,
     "end_time": "2024-05-08T16:57:17.888742",
     "exception": false,
     "start_time": "2024-05-08T16:57:17.883797",
     "status": "completed"
    },
    "tags": []
   },
   "source": [
    "train_fn"
   ]
  },
  {
   "cell_type": "code",
   "execution_count": 7,
   "id": "fc2f5922",
   "metadata": {
    "execution": {
     "iopub.execute_input": "2024-05-08T16:57:17.899512Z",
     "iopub.status.busy": "2024-05-08T16:57:17.899254Z",
     "iopub.status.idle": "2024-05-08T20:32:37.308204Z",
     "shell.execute_reply": "2024-05-08T20:32:37.306851Z"
    },
    "papermill": {
     "duration": 12919.416939,
     "end_time": "2024-05-08T20:32:37.310443",
     "exception": false,
     "start_time": "2024-05-08T16:57:17.893504",
     "status": "completed"
    },
    "tags": []
   },
   "outputs": [
    {
     "name": "stderr",
     "output_type": "stream",
     "text": [
      "/opt/conda/lib/python3.10/site-packages/torch/utils/data/dataloader.py:557: UserWarning: This DataLoader will create 8 worker processes in total. Our suggested max number of worker in current system is 4, which is smaller than what this DataLoader is going to create. Please be aware that excessive worker creation might get DataLoader running slow or even freeze, lower the worker number to avoid potential slowness/freeze if necessary.\n",
      "  warnings.warn(_create_warning_msg(\n",
      "100%|██████████| 1334/1334 [08:36<00:00,  2.58it/s, H_fake=0.451, H_real=0.544]\n"
     ]
    },
    {
     "name": "stdout",
     "output_type": "stream",
     "text": [
      "=> Saving checkpoint\n",
      "=> Saving checkpoint\n",
      "=> Saving checkpoint\n",
      "=> Saving checkpoint\n"
     ]
    },
    {
     "name": "stderr",
     "output_type": "stream",
     "text": [
      "100%|██████████| 1334/1334 [08:36<00:00,  2.58it/s, H_fake=0.435, H_real=0.558]\n"
     ]
    },
    {
     "name": "stdout",
     "output_type": "stream",
     "text": [
      "=> Saving checkpoint\n",
      "=> Saving checkpoint\n",
      "=> Saving checkpoint\n",
      "=> Saving checkpoint\n"
     ]
    },
    {
     "name": "stderr",
     "output_type": "stream",
     "text": [
      "100%|██████████| 1334/1334 [08:35<00:00,  2.59it/s, H_fake=0.427, H_real=0.565]\n"
     ]
    },
    {
     "name": "stdout",
     "output_type": "stream",
     "text": [
      "=> Saving checkpoint\n",
      "=> Saving checkpoint\n",
      "=> Saving checkpoint\n",
      "=> Saving checkpoint\n"
     ]
    },
    {
     "name": "stderr",
     "output_type": "stream",
     "text": [
      "100%|██████████| 1334/1334 [08:35<00:00,  2.59it/s, H_fake=0.426, H_real=0.568]\n"
     ]
    },
    {
     "name": "stdout",
     "output_type": "stream",
     "text": [
      "=> Saving checkpoint\n",
      "=> Saving checkpoint\n",
      "=> Saving checkpoint\n",
      "=> Saving checkpoint\n"
     ]
    },
    {
     "name": "stderr",
     "output_type": "stream",
     "text": [
      "100%|██████████| 1334/1334 [08:35<00:00,  2.59it/s, H_fake=0.422, H_real=0.572]\n"
     ]
    },
    {
     "name": "stdout",
     "output_type": "stream",
     "text": [
      "=> Saving checkpoint\n",
      "=> Saving checkpoint\n",
      "=> Saving checkpoint\n",
      "=> Saving checkpoint\n"
     ]
    },
    {
     "name": "stderr",
     "output_type": "stream",
     "text": [
      "100%|██████████| 1334/1334 [08:35<00:00,  2.59it/s, H_fake=0.418, H_real=0.575]\n"
     ]
    },
    {
     "name": "stdout",
     "output_type": "stream",
     "text": [
      "=> Saving checkpoint\n",
      "=> Saving checkpoint\n",
      "=> Saving checkpoint\n",
      "=> Saving checkpoint\n"
     ]
    },
    {
     "name": "stderr",
     "output_type": "stream",
     "text": [
      "100%|██████████| 1334/1334 [08:35<00:00,  2.59it/s, H_fake=0.412, H_real=0.583]\n"
     ]
    },
    {
     "name": "stdout",
     "output_type": "stream",
     "text": [
      "=> Saving checkpoint\n",
      "=> Saving checkpoint\n",
      "=> Saving checkpoint\n",
      "=> Saving checkpoint\n"
     ]
    },
    {
     "name": "stderr",
     "output_type": "stream",
     "text": [
      "100%|██████████| 1334/1334 [08:35<00:00,  2.59it/s, H_fake=0.408, H_real=0.586]\n"
     ]
    },
    {
     "name": "stdout",
     "output_type": "stream",
     "text": [
      "=> Saving checkpoint\n",
      "=> Saving checkpoint\n",
      "=> Saving checkpoint\n",
      "=> Saving checkpoint\n"
     ]
    },
    {
     "name": "stderr",
     "output_type": "stream",
     "text": [
      "100%|██████████| 1334/1334 [08:35<00:00,  2.59it/s, H_fake=0.402, H_real=0.59]\n"
     ]
    },
    {
     "name": "stdout",
     "output_type": "stream",
     "text": [
      "=> Saving checkpoint\n",
      "=> Saving checkpoint\n",
      "=> Saving checkpoint\n",
      "=> Saving checkpoint\n"
     ]
    },
    {
     "name": "stderr",
     "output_type": "stream",
     "text": [
      "100%|██████████| 1334/1334 [08:35<00:00,  2.59it/s, H_fake=0.4, H_real=0.593]\n"
     ]
    },
    {
     "data": {
      "image/png": "[encoded data removed]",
      "text/plain": [
       "<Figure size 1000x500 with 1 Axes>"
      ]
     },
     "metadata": {},
     "output_type": "display_data"
    },
    {
     "name": "stdout",
     "output_type": "stream",
     "text": [
      "=> Saving checkpoint\n",
      "=> Saving checkpoint\n",
      "=> Saving checkpoint\n",
      "=> Saving checkpoint\n"
     ]
    },
    {
     "name": "stderr",
     "output_type": "stream",
     "text": [
      "100%|██████████| 1334/1334 [08:34<00:00,  2.59it/s, H_fake=0.397, H_real=0.595]\n"
     ]
    },
    {
     "name": "stdout",
     "output_type": "stream",
     "text": [
      "=> Saving checkpoint\n",
      "=> Saving checkpoint\n",
      "=> Saving checkpoint\n",
      "=> Saving checkpoint\n"
     ]
    },
    {
     "name": "stderr",
     "output_type": "stream",
     "text": [
      "100%|██████████| 1334/1334 [08:34<00:00,  2.59it/s, H_fake=0.394, H_real=0.599]\n"
     ]
    },
    {
     "name": "stdout",
     "output_type": "stream",
     "text": [
      "=> Saving checkpoint\n",
      "=> Saving checkpoint\n",
      "=> Saving checkpoint\n",
      "=> Saving checkpoint\n"
     ]
    },
    {
     "name": "stderr",
     "output_type": "stream",
     "text": [
      "100%|██████████| 1334/1334 [08:35<00:00,  2.59it/s, H_fake=0.391, H_real=0.602]\n"
     ]
    },
    {
     "name": "stdout",
     "output_type": "stream",
     "text": [
      "=> Saving checkpoint\n",
      "=> Saving checkpoint\n",
      "=> Saving checkpoint\n",
      "=> Saving checkpoint\n"
     ]
    },
    {
     "name": "stderr",
     "output_type": "stream",
     "text": [
      "100%|██████████| 1334/1334 [08:36<00:00,  2.58it/s, H_fake=0.389, H_real=0.604]\n"
     ]
    },
    {
     "name": "stdout",
     "output_type": "stream",
     "text": [
      "=> Saving checkpoint\n",
      "=> Saving checkpoint\n",
      "=> Saving checkpoint\n",
      "=> Saving checkpoint\n"
     ]
    },
    {
     "name": "stderr",
     "output_type": "stream",
     "text": [
      "100%|██████████| 1334/1334 [08:34<00:00,  2.59it/s, H_fake=0.384, H_real=0.607]\n"
     ]
    },
    {
     "name": "stdout",
     "output_type": "stream",
     "text": [
      "=> Saving checkpoint\n",
      "=> Saving checkpoint\n",
      "=> Saving checkpoint\n",
      "=> Saving checkpoint\n"
     ]
    },
    {
     "name": "stderr",
     "output_type": "stream",
     "text": [
      "100%|██████████| 1334/1334 [08:35<00:00,  2.59it/s, H_fake=0.383, H_real=0.611]\n"
     ]
    },
    {
     "name": "stdout",
     "output_type": "stream",
     "text": [
      "=> Saving checkpoint\n",
      "=> Saving checkpoint\n",
      "=> Saving checkpoint\n",
      "=> Saving checkpoint\n"
     ]
    },
    {
     "name": "stderr",
     "output_type": "stream",
     "text": [
      "100%|██████████| 1334/1334 [08:34<00:00,  2.59it/s, H_fake=0.38, H_real=0.614]\n"
     ]
    },
    {
     "name": "stdout",
     "output_type": "stream",
     "text": [
      "=> Saving checkpoint\n",
      "=> Saving checkpoint\n",
      "=> Saving checkpoint\n",
      "=> Saving checkpoint\n"
     ]
    },
    {
     "name": "stderr",
     "output_type": "stream",
     "text": [
      "100%|██████████| 1334/1334 [08:35<00:00,  2.59it/s, H_fake=0.374, H_real=0.617]\n"
     ]
    },
    {
     "name": "stdout",
     "output_type": "stream",
     "text": [
      "=> Saving checkpoint\n",
      "=> Saving checkpoint\n",
      "=> Saving checkpoint\n",
      "=> Saving checkpoint\n"
     ]
    },
    {
     "name": "stderr",
     "output_type": "stream",
     "text": [
      "100%|██████████| 1334/1334 [08:35<00:00,  2.59it/s, H_fake=0.376, H_real=0.619]\n"
     ]
    },
    {
     "name": "stdout",
     "output_type": "stream",
     "text": [
      "=> Saving checkpoint\n",
      "=> Saving checkpoint\n",
      "=> Saving checkpoint\n",
      "=> Saving checkpoint\n"
     ]
    },
    {
     "name": "stderr",
     "output_type": "stream",
     "text": [
      "100%|██████████| 1334/1334 [08:35<00:00,  2.59it/s, H_fake=0.377, H_real=0.618]\n"
     ]
    },
    {
     "data": {
      "image/png": "[encoded data removed]",
      "text/plain": [
       "<Figure size 1000x500 with 1 Axes>"
      ]
     },
     "metadata": {},
     "output_type": "display_data"
    },
    {
     "name": "stdout",
     "output_type": "stream",
     "text": [
      "=> Saving checkpoint\n",
      "=> Saving checkpoint\n",
      "=> Saving checkpoint\n",
      "=> Saving checkpoint\n"
     ]
    },
    {
     "name": "stderr",
     "output_type": "stream",
     "text": [
      "100%|██████████| 1334/1334 [08:35<00:00,  2.59it/s, H_fake=0.375, H_real=0.618]\n"
     ]
    },
    {
     "name": "stdout",
     "output_type": "stream",
     "text": [
      "=> Saving checkpoint\n",
      "=> Saving checkpoint\n",
      "=> Saving checkpoint\n",
      "=> Saving checkpoint\n"
     ]
    },
    {
     "name": "stderr",
     "output_type": "stream",
     "text": [
      "100%|██████████| 1334/1334 [08:35<00:00,  2.59it/s, H_fake=0.374, H_real=0.62]\n"
     ]
    },
    {
     "name": "stdout",
     "output_type": "stream",
     "text": [
      "=> Saving checkpoint\n",
      "=> Saving checkpoint\n",
      "=> Saving checkpoint\n",
      "=> Saving checkpoint\n"
     ]
    },
    {
     "name": "stderr",
     "output_type": "stream",
     "text": [
      "100%|██████████| 1334/1334 [08:35<00:00,  2.59it/s, H_fake=0.374, H_real=0.62]\n"
     ]
    },
    {
     "name": "stdout",
     "output_type": "stream",
     "text": [
      "=> Saving checkpoint\n",
      "=> Saving checkpoint\n",
      "=> Saving checkpoint\n",
      "=> Saving checkpoint\n"
     ]
    },
    {
     "name": "stderr",
     "output_type": "stream",
     "text": [
      "100%|██████████| 1334/1334 [08:35<00:00,  2.59it/s, H_fake=0.373, H_real=0.62]\n"
     ]
    },
    {
     "name": "stdout",
     "output_type": "stream",
     "text": [
      "=> Saving checkpoint\n",
      "=> Saving checkpoint\n",
      "=> Saving checkpoint\n",
      "=> Saving checkpoint\n"
     ]
    },
    {
     "name": "stderr",
     "output_type": "stream",
     "text": [
      "100%|██████████| 1334/1334 [08:35<00:00,  2.59it/s, H_fake=0.377, H_real=0.616]\n"
     ]
    },
    {
     "name": "stdout",
     "output_type": "stream",
     "text": [
      "=> Saving checkpoint\n",
      "=> Saving checkpoint\n",
      "=> Saving checkpoint\n",
      "=> Saving checkpoint\n"
     ]
    }
   ],
   "source": [
    "import torch\n",
    "import matplotlib.pyplot as plt\n",
    "import sys\n",
    "from torchvision.utils import save_image\n",
    "from torch.utils.data import DataLoader\n",
    "import torch.nn as nn\n",
    "import torch.optim as optim\n",
    "\n",
    "from tqdm import tqdm\n",
    "\n",
    "def train_fn(\n",
    "    disc_H, disc_Z, gen_Z, gen_H, loader, opt_disc, opt_gen, l1, mse, d_scaler, g_scaler, loss_history\n",
    "):\n",
    "    H_reals = 0\n",
    "    H_fakes = 0\n",
    "\n",
    "    loop = tqdm(loader, leave=True)\n",
    "\n",
    "    for idx, (zebra, horse) in enumerate(loop):\n",
    "        zebra = zebra.to(DEVICE)\n",
    "        horse = horse.to(DEVICE)\n",
    "\n",
    "        # Train Discriminators H and Z\n",
    "        with torch.cuda.amp.autocast():\n",
    "            fake_horse = gen_H(zebra)\n",
    "            D_H_real = disc_H(horse)\n",
    "            D_H_fake = disc_H(fake_horse.detach())\n",
    "            H_reals += D_H_real.mean().item()\n",
    "            H_fakes += D_H_fake.mean().item()\n",
    "            D_H_real_loss = mse(D_H_real, torch.ones_like(D_H_real))\n",
    "            D_H_fake_loss = mse(D_H_fake, torch.zeros_like(D_H_fake))\n",
    "            D_H_loss = D_H_real_loss + D_H_fake_loss\n",
    "\n",
    "            fake_zebra = gen_Z(horse)\n",
    "            D_Z_real = disc_Z(zebra)\n",
    "            D_Z_fake = disc_Z(fake_zebra.detach())\n",
    "            D_Z_real_loss = mse(D_Z_real, torch.ones_like(D_Z_real))\n",
    "            D_Z_fake_loss = mse(D_Z_fake, torch.zeros_like(D_Z_fake))\n",
    "            D_Z_loss = D_Z_real_loss + D_Z_fake_loss\n",
    "\n",
    "            # put it together\n",
    "            D_loss = (D_H_loss + D_Z_loss) / 2\n",
    "\n",
    "        opt_disc.zero_grad()\n",
    "        d_scaler.scale(D_loss).backward()\n",
    "        d_scaler.step(opt_disc)\n",
    "        d_scaler.update()\n",
    "\n",
    "        # Train Generators H and Z\n",
    "        with torch.cuda.amp.autocast():\n",
    "            # adversarial loss for both generators\n",
    "            D_H_fake = disc_H(fake_horse)\n",
    "            D_Z_fake = disc_Z(fake_zebra)\n",
    "            loss_G_H = mse(D_H_fake, torch.ones_like(D_H_fake))\n",
    "            loss_G_Z = mse(D_Z_fake, torch.ones_like(D_Z_fake))\n",
    "\n",
    "            # cycle loss\n",
    "            cycle_zebra = gen_Z(fake_horse)\n",
    "            cycle_horse = gen_H(fake_zebra)\n",
    "            cycle_zebra_loss = l1(zebra, cycle_zebra)\n",
    "            cycle_horse_loss = l1(horse, cycle_horse)\n",
    "\n",
    "            # identity loss (remove these for efficiency if you set lambda_identity=0)\n",
    "            identity_zebra = gen_Z(zebra)\n",
    "            identity_horse = gen_H(horse)\n",
    "            identity_zebra_loss = l1(zebra, identity_zebra)\n",
    "            identity_horse_loss = l1(horse, identity_horse)\n",
    "\n",
    "            # add all together\n",
    "            G_loss = (\n",
    "                loss_G_Z\n",
    "                + loss_G_H\n",
    "                + cycle_zebra_loss * LAMBDA_CYCLE\n",
    "                + cycle_horse_loss * LAMBDA_CYCLE\n",
    "                + identity_horse_loss * LAMBDA_IDENTITY\n",
    "                + identity_zebra_loss * LAMBDA_IDENTITY\n",
    "            )\n",
    "\n",
    "        opt_gen.zero_grad()\n",
    "        g_scaler.scale(G_loss).backward()\n",
    "        g_scaler.step(opt_gen)\n",
    "        g_scaler.update()\n",
    "        \n",
    "        \n",
    "        if idx % 200 == 0:\n",
    "            save_image(fake_horse * 0.5 + 0.5, f\"saved_images/horse_{idx}.png\")\n",
    "            save_image(fake_zebra * 0.5 + 0.5, f\"saved_images/zebra_{idx}.png\")\n",
    "\n",
    "        loop.set_postfix(H_real=H_reals / (idx + 1), H_fake=H_fakes / (idx + 1))\n",
    "        \n",
    "        # Ghi lại loss\n",
    "        loss_history['D'].append(D_loss.item())\n",
    "        loss_history['G'].append(G_loss.item())\n",
    "\n",
    "def plot_loss(loss_history):\n",
    "    plt.figure(figsize=(10, 5))\n",
    "    plt.plot(loss_history['D'], label='Discriminator Loss')\n",
    "    plt.plot(loss_history['G'], label='Generator Loss')\n",
    "    plt.xlabel('Iteration')\n",
    "    plt.ylabel('Loss')\n",
    "    plt.title('Training Loss')\n",
    "    plt.legend()\n",
    "    plt.show()\n",
    "\n",
    "\n",
    "def main():\n",
    "    # Danh sách để lưu loss\n",
    "    loss_history = {'G': [], 'D': []}\n",
    "    disc_H = Discriminator(in_channels=3).to(DEVICE)\n",
    "    disc_Z = Discriminator(in_channels=3).to(DEVICE)\n",
    "    gen_Z = Generator(img_channels=3, num_residuals=9).to(DEVICE)\n",
    "    gen_H = Generator(img_channels=3, num_residuals=9).to(DEVICE)\n",
    "    opt_disc = optim.Adam(\n",
    "        list(disc_H.parameters()) + list(disc_Z.parameters()),\n",
    "        lr=LEARNING_RATE,\n",
    "        betas=(0.5, 0.999),\n",
    "    )\n",
    "\n",
    "    opt_gen = optim.Adam(\n",
    "        list(gen_Z.parameters()) + list(gen_H.parameters()),\n",
    "        lr=LEARNING_RATE,\n",
    "        betas=(0.5, 0.999),\n",
    "    )\n",
    "\n",
    "    L1 = nn.L1Loss()\n",
    "    mse = nn.MSELoss()\n",
    "\n",
    "    if LOAD_MODEL:\n",
    "        load_checkpoint(\n",
    "            CHECKPOINT_GEN_H,\n",
    "            gen_H,\n",
    "            opt_gen,\n",
    "            LEARNING_RATE,\n",
    "        )\n",
    "        load_checkpoint(\n",
    "            CHECKPOINT_GEN_Z,\n",
    "            gen_Z,\n",
    "            opt_gen,\n",
    "            LEARNING_RATE,\n",
    "        )\n",
    "        load_checkpoint(\n",
    "             CHECKPOINT_CRITIC_H,\n",
    "            disc_H,\n",
    "            opt_disc,\n",
    "            LEARNING_RATE,\n",
    "        )\n",
    "        load_checkpoint(\n",
    "            CHECKPOINT_CRITIC_Z,\n",
    "            disc_Z,\n",
    "            opt_disc,\n",
    "            LEARNING_RATE,\n",
    "        )\n",
    "\n",
    "    dataset = HorseZebraDataset(\n",
    "        root_horse=TRAIN_DIR + \"/trainA\",\n",
    "        root_zebra=TRAIN_DIR + \"/trainB\",\n",
    "        transform=transforms,\n",
    "    )\n",
    "    val_dataset = HorseZebraDataset(\n",
    "        root_horse=\"/kaggle/input/horse2zebra-dataset/testA\",\n",
    "        root_zebra=\"/kaggle/input/horse2zebra-dataset/testB\",\n",
    "        transform=transforms,\n",
    "    )\n",
    "    val_loader = DataLoader(\n",
    "        val_dataset,\n",
    "        batch_size=1,\n",
    "        shuffle=False,\n",
    "        pin_memory=True,\n",
    "    )\n",
    "    loader = DataLoader(\n",
    "        dataset,\n",
    "        batch_size=BATCH_SIZE,\n",
    "        shuffle=True,\n",
    "        num_workers=NUM_WORKERS,\n",
    "        pin_memory=True,\n",
    "    )\n",
    "    g_scaler = torch.cuda.amp.GradScaler()\n",
    "    d_scaler = torch.cuda.amp.GradScaler()\n",
    "\n",
    "    for epoch in range(NUM_EPOCHS):\n",
    "        train_fn(\n",
    "            disc_H,\n",
    "            disc_Z,\n",
    "            gen_Z,\n",
    "            gen_H,\n",
    "            loader,\n",
    "            opt_disc,\n",
    "            opt_gen,\n",
    "            L1,\n",
    "            mse,\n",
    "            d_scaler,\n",
    "            g_scaler,\n",
    "            loss_history,\n",
    "        )\n",
    "\n",
    "        # Kiểm tra nếu epoch chia hết cho 10\n",
    "        if (epoch + 1) % 10 == 0:\n",
    "            # In ra đồ thị loss\n",
    "            plot_loss(loss_history)\n",
    "\n",
    "        if SAVE_MODEL:\n",
    "            save_checkpoint(gen_H, opt_gen, filename=CHECKPOINT_GEN_H)\n",
    "            save_checkpoint(gen_Z, opt_gen, filename=CHECKPOINT_GEN_Z)\n",
    "            save_checkpoint(disc_H, opt_disc, filename=CHECKPOINT_CRITIC_H)\n",
    "            save_checkpoint(disc_Z, opt_disc, filename=CHECKPOINT_CRITIC_Z)\n",
    "\n",
    "\n",
    "\n",
    "if __name__ == \"__main__\":\n",
    "    main()\n"
   ]
  },
  {
   "cell_type": "markdown",
   "id": "4c563938",
   "metadata": {
    "papermill": {
     "duration": 5.370753,
     "end_time": "2024-05-08T20:32:48.202066",
     "exception": false,
     "start_time": "2024-05-08T20:32:42.831313",
     "status": "completed"
    },
    "tags": []
   },
   "source": [
    "save"
   ]
  },
  {
   "cell_type": "code",
   "execution_count": null,
   "id": "b897d5ef",
   "metadata": {
    "papermill": {
     "duration": 5.340403,
     "end_time": "2024-05-08T20:32:59.047543",
     "exception": false,
     "start_time": "2024-05-08T20:32:53.707140",
     "status": "completed"
    },
    "tags": []
   },
   "outputs": [],
   "source": []
  },
  {
   "cell_type": "code",
   "execution_count": null,
   "id": "01d93d66",
   "metadata": {
    "papermill": {
     "duration": 5.58041,
     "end_time": "2024-05-08T20:33:09.950836",
     "exception": false,
     "start_time": "2024-05-08T20:33:04.370426",
     "status": "completed"
    },
    "tags": []
   },
   "outputs": [],
   "source": []
  },
  {
   "cell_type": "code",
   "execution_count": null,
   "id": "5613bdaf",
   "metadata": {
    "papermill": {
     "duration": 5.369386,
     "end_time": "2024-05-08T20:33:20.780766",
     "exception": false,
     "start_time": "2024-05-08T20:33:15.411380",
     "status": "completed"
    },
    "tags": []
   },
   "outputs": [],
   "source": []
  }
 ],
 "metadata": {
  "kaggle": {
   "accelerator": "gpu",
   "dataSources": [
    {
     "datasetId": 926321,
     "sourceId": 1567596,
     "sourceType": "datasetVersion"
    }
   ],
   "dockerImageVersionId": 30699,
   "isGpuEnabled": true,
   "isInternetEnabled": true,
   "language": "python",
   "sourceType": "notebook"
  },
  "kernelspec": {
   "display_name": "Python 3",
   "language": "python",
   "name": "python3"
  },
  "language_info": {
   "codemirror_mode": {
    "name": "ipython",
    "version": 3
   },
   "file_extension": ".py",
   "mimetype": "text/x-python",
   "name": "python",
   "nbconvert_exporter": "python",
   "pygments_lexer": "ipython3",
   "version": "3.10.13"
  },
  "papermill": {
   "default_parameters": {},
   "duration": 12979.090741,
   "end_time": "2024-05-08T20:33:28.714579",
   "environment_variables": {},
   "exception": null,
   "input_path": "__notebook__.ipynb",
   "output_path": "__notebook__.ipynb",
   "parameters": {},
   "start_time": "2024-05-08T16:57:09.623838",
   "version": "2.5.0"
  }
 },
 "nbformat": 4,
 "nbformat_minor": 5
}
